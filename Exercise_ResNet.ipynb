{
  "nbformat": 4,
  "nbformat_minor": 0,
  "metadata": {
    "colab": {
      "name": "Exercise_ResNet.ipynb",
      "provenance": [],
      "authorship_tag": "ABX9TyPJeCQxoqUL5S+iDcLtmPTA",
      "include_colab_link": true
    },
    "kernelspec": {
      "name": "python3",
      "display_name": "Python 3"
    },
    "accelerator": "GPU"
  },
  "cells": [
    {
      "cell_type": "markdown",
      "metadata": {
        "id": "view-in-github",
        "colab_type": "text"
      },
      "source": [
        "<a href=\"https://colab.research.google.com/github/comojin1994/ResNet/blob/master/Exercise_ResNet.ipynb\" target=\"_parent\"><img src=\"https://colab.research.google.com/assets/colab-badge.svg\" alt=\"Open In Colab\"/></a>"
      ]
    },
    {
      "cell_type": "code",
      "metadata": {
        "id": "it9j_q5Vy70L",
        "colab_type": "code",
        "outputId": "6d98d9f0-039a-4351-eae2-8e2932596d4f",
        "colab": {
          "base_uri": "https://localhost:8080/",
          "height": 52
        }
      },
      "source": [
        "%tensorflow_version 2.x\n",
        "import tensorflow as tf\n",
        "import numpy as np\n",
        "tf.__version__"
      ],
      "execution_count": 0,
      "outputs": [
        {
          "output_type": "stream",
          "text": [
            "TensorFlow 2.x selected.\n"
          ],
          "name": "stdout"
        },
        {
          "output_type": "execute_result",
          "data": {
            "text/plain": [
              "'2.1.0'"
            ]
          },
          "metadata": {
            "tags": []
          },
          "execution_count": 1
        }
      ]
    },
    {
      "cell_type": "markdown",
      "metadata": {
        "id": "Lk81AqAOzLdE",
        "colab_type": "text"
      },
      "source": [
        "### Hyperparameter"
      ]
    },
    {
      "cell_type": "code",
      "metadata": {
        "id": "Uiy7Z3P7zGKt",
        "colab_type": "code",
        "colab": {}
      },
      "source": [
        "EPOCHS = 10\n",
        "batch_size = 32"
      ],
      "execution_count": 0,
      "outputs": []
    },
    {
      "cell_type": "markdown",
      "metadata": {
        "id": "mwAjTGu_zPrI",
        "colab_type": "text"
      },
      "source": [
        "### ResidualUnit"
      ]
    },
    {
      "cell_type": "code",
      "metadata": {
        "id": "GOjBvqpqzPYD",
        "colab_type": "code",
        "colab": {}
      },
      "source": [
        "class ResidualUnit(tf.keras.Model):\n",
        "    def __init__(self, filter_in, filter_out, kernel_size):\n",
        "        super(ResidualUnit, self).__init__()\n",
        "        self.bn1 = tf.keras.layers.BatchNormalization()\n",
        "        self.conv1 = tf.keras.layers.Conv2D(filter_out, kernel_size, padding='same')\n",
        "\n",
        "        self.bn2 = tf.keras.layers.BatchNormalization()\n",
        "        self.conv2 = tf.keras.layers.Conv2D(filter_out, kernel_size, padding='same')\n",
        "\n",
        "        if filter_in == filter_out:\n",
        "            self.identity = lambda x: x\n",
        "        else:\n",
        "            self.identity = tf.keras.layers.Conv2D(filter_out, (1, 1), padding='same')\n",
        "\n",
        "    def call(self, x, training=False, mask=None):\n",
        "        h = self.bn1(x, training=training)\n",
        "        h = tf.nn.relu(h)\n",
        "        h = self.conv1(h)\n",
        "        h = self.bn2(h, training=training)\n",
        "        h = tf.nn.relu(h)\n",
        "        h = self.conv2(h)\n",
        "        return self.identity(x) + h"
      ],
      "execution_count": 0,
      "outputs": []
    },
    {
      "cell_type": "markdown",
      "metadata": {
        "id": "80ahDlDizTZa",
        "colab_type": "text"
      },
      "source": [
        "### ResidualLayer"
      ]
    },
    {
      "cell_type": "code",
      "metadata": {
        "id": "R7oHgSj-zXkm",
        "colab_type": "code",
        "colab": {}
      },
      "source": [
        "class ResidualLayer(tf.keras.Model):\n",
        "    def __init__(self, filter_in, filters, kernel_size):\n",
        "        super(ResidualLayer, self).__init__()\n",
        "        self.sequence = list()\n",
        "        for f_in, f_out in zip([filter_in] + list(filters), filters):\n",
        "            self.sequence.append(ResidualUnit(f_in, f_out, kernel_size))        \n",
        "\n",
        "    def call(self, x, training=False, mask=None):\n",
        "        for unit in self.sequence:\n",
        "            x = unit(x, training=training)\n",
        "        return x"
      ],
      "execution_count": 0,
      "outputs": []
    },
    {
      "cell_type": "markdown",
      "metadata": {
        "id": "c9If2TdAzX_i",
        "colab_type": "text"
      },
      "source": [
        "### Model"
      ]
    },
    {
      "cell_type": "code",
      "metadata": {
        "id": "rUVgMe7FzYya",
        "colab_type": "code",
        "colab": {}
      },
      "source": [
        "class ResNet(tf.keras.Model):\n",
        "    def __init__(self):\n",
        "        super(ResNet, self).__init__()\n",
        "        self.conv1 = tf.keras.layers.Conv2D(8, (3, 3), padding='same', activation='relu') # 32x32x8\n",
        "\n",
        "        self.res1 = ResidualLayer(8, (16, 16), (3, 3)) # 32x32x16\n",
        "        self.pool1 = tf.keras.layers.MaxPool2D() # 16x16x16\n",
        "\n",
        "        self.res2 = ResidualLayer(16, (32, 32), (3, 3)) # 16x16x32\n",
        "        self.pool2 = tf.keras.layers.MaxPool2D() # 8x8x32\n",
        "\n",
        "        self.res3 = ResidualLayer(32, (64, 64), (3, 3)) # 8x8x64\n",
        "        self.pool3 = tf.keras.layers.MaxPool2D() # 4x4x64\n",
        "\n",
        "        self.res4 = ResidualLayer(64, (128, 128), (3, 3)) # 4x4x128\n",
        "\n",
        "        self.flatten = tf.keras.layers.Flatten() # 2048\n",
        "        self.dense1 = tf.keras.layers.Dense(1024, activation='relu')\n",
        "        self.dense2 = tf.keras.layers.Dense(10, activation='softmax')\n",
        "\n",
        "    def call(self, x, training=False, mask=None):\n",
        "        x = self.conv1(x)\n",
        "        x = self.res1(x, training=training)\n",
        "        x = self.pool1(x)\n",
        "        x = self.res2(x, training=training)\n",
        "        x = self.pool2(x)\n",
        "        x = self.res3(x, training=training)\n",
        "        x = self.pool3(x)\n",
        "        x = self.res4(x, training=training)\n",
        "        x = self.flatten(x)\n",
        "        x = self.dense1(x)\n",
        "        x = self.dense2(x)\n",
        "        return x"
      ],
      "execution_count": 0,
      "outputs": []
    },
    {
      "cell_type": "markdown",
      "metadata": {
        "id": "rADa_Jqf4TAH",
        "colab_type": "text"
      },
      "source": [
        "### Load Data"
      ]
    },
    {
      "cell_type": "code",
      "metadata": {
        "id": "Uz2gUTuy4ULR",
        "colab_type": "code",
        "outputId": "b6ba1a39-08fd-4254-f84a-ffedb8d7d170",
        "colab": {
          "base_uri": "https://localhost:8080/",
          "height": 52
        }
      },
      "source": [
        "cifar10 = tf.keras.datasets.cifar10\n",
        "\n",
        "(x_train, y_train), (x_test, y_test) = cifar10.load_data()\n",
        "x_train, x_test = x_train / 255., x_test / 255.\n",
        "x_train = x_train.astype(np.float32)\n",
        "x_test = x_test.astype(np.float32)\n",
        "\n",
        "train_ds = tf.data.Dataset.from_tensor_slices((x_train, y_train)).shuffle(len(x_train)).batch(batch_size)\n",
        "test_ds = tf.data.Dataset.from_tensor_slices((x_test, y_test)).batch(batch_size)"
      ],
      "execution_count": 0,
      "outputs": [
        {
          "output_type": "stream",
          "text": [
            "Downloading data from https://www.cs.toronto.edu/~kriz/cifar-10-python.tar.gz\n",
            "170500096/170498071 [==============================] - 13s 0us/step\n"
          ],
          "name": "stdout"
        }
      ]
    },
    {
      "cell_type": "markdown",
      "metadata": {
        "id": "4Gsb857241SU",
        "colab_type": "text"
      },
      "source": [
        "### Define train, test loop"
      ]
    },
    {
      "cell_type": "code",
      "metadata": {
        "id": "0kphsfV940e7",
        "colab_type": "code",
        "colab": {}
      },
      "source": [
        "@tf.function\n",
        "def train_step(model, images, labels, loss_object, optimizer, train_loss, train_accuracy):\n",
        "    with tf.GradientTape() as tape:\n",
        "        predictions = model(images, training=True)\n",
        "        loss = loss_object(labels, predictions)\n",
        "    gradients = tape.gradient(loss, model.trainable_variables)\n",
        "\n",
        "    optimizer.apply_gradients(zip(gradients, model.trainable_variables))\n",
        "    train_loss(loss)\n",
        "    train_accuracy(labels, predictions)\n",
        "\n",
        "@tf.function\n",
        "def test_step(model, images, labels, loss_object, test_loss, test_accuracy):\n",
        "    predictions = model(images, training=False)\n",
        "    t_loss = loss_object(labels, predictions)\n",
        "\n",
        "    test_loss(t_loss)\n",
        "    test_accuracy(labels, predictions)"
      ],
      "execution_count": 0,
      "outputs": []
    },
    {
      "cell_type": "markdown",
      "metadata": {
        "id": "HtecAQ7p6Bpe",
        "colab_type": "text"
      },
      "source": [
        "### Define model, loss function, optimizer and metric"
      ]
    },
    {
      "cell_type": "code",
      "metadata": {
        "id": "_6TgJfOs6Ao8",
        "colab_type": "code",
        "colab": {}
      },
      "source": [
        "model = ResNet()\n",
        "\n",
        "loss_object = tf.keras.losses.SparseCategoricalCrossentropy()\n",
        "optimizer = tf.keras.optimizers.Adam()\n",
        "\n",
        "train_loss = tf.keras.metrics.Mean(name='train_loss')\n",
        "train_accuracy = tf.keras.metrics.SparseCategoricalAccuracy(name='train_accuracy')\n",
        "test_loss = tf.keras.metrics.Mean(name='test_loss')\n",
        "test_accuracy = tf.keras.metrics.SparseCategoricalAccuracy(name='test_accuracy')"
      ],
      "execution_count": 0,
      "outputs": []
    },
    {
      "cell_type": "markdown",
      "metadata": {
        "id": "s_Xy0b7C67aO",
        "colab_type": "text"
      },
      "source": [
        "### Training"
      ]
    },
    {
      "cell_type": "code",
      "metadata": {
        "id": "dF5ZcCrU6x3Z",
        "colab_type": "code",
        "outputId": "8eb4556b-81c0-4577-d4ec-6d1c1e7a0d94",
        "colab": {
          "base_uri": "https://localhost:8080/",
          "height": 193
        }
      },
      "source": [
        "for epoch in range(EPOCHS):\n",
        "    for images, labels in train_ds:\n",
        "        train_step(model, images, labels, loss_object, optimizer, train_loss, train_accuracy)\n",
        "\n",
        "    for images, labels in test_ds:\n",
        "        test_step(model, images, labels, loss_object, test_loss, test_accuracy)\n",
        "\n",
        "    template = 'Epoch {}, Loss: {}, Accuracy {}, Test Loss: {}, Test Accuracy: {}'\n",
        "    print(template.format(\n",
        "          epoch + 1,\n",
        "          train_loss.result(),\n",
        "          train_accuracy.result() * 100,\n",
        "          test_loss.result(),\n",
        "          test_accuracy.result() * 100\n",
        "    ))"
      ],
      "execution_count": 0,
      "outputs": [
        {
          "output_type": "stream",
          "text": [
            "Epoch 1, Loss: 1.4326711893081665, Accuracy50.19000244140625, Test Loss: 1.1125925779342651, Test Accuracy: 60.93000030517578\n",
            "Epoch 2, Loss: 1.1854692697525024, Accuracy58.6619987487793, Test Loss: 1.062851905822754, Test Accuracy: 63.195003509521484\n",
            "Epoch 3, Loss: 1.0400160551071167, Accuracy63.77666473388672, Test Loss: 0.9904375076293945, Test Accuracy: 65.72666931152344\n",
            "Epoch 4, Loss: 0.9387577772140503, Accuracy67.385498046875, Test Loss: 0.9522490501403809, Test Accuracy: 67.20249938964844\n",
            "Epoch 5, Loss: 0.8582229018211365, Accuracy70.23040008544922, Test Loss: 0.9284880757331848, Test Accuracy: 68.31200408935547\n",
            "Epoch 6, Loss: 0.7903414368629456, Accuracy72.62266540527344, Test Loss: 0.9162169098854065, Test Accuracy: 69.36333465576172\n",
            "Epoch 7, Loss: 0.7334502339363098, Accuracy74.59600067138672, Test Loss: 0.8926169872283936, Test Accuracy: 70.47856903076172\n",
            "Epoch 8, Loss: 0.6832081079483032, Accuracy76.34574890136719, Test Loss: 0.9010035991668701, Test Accuracy: 70.75125122070312\n",
            "Epoch 9, Loss: 0.6384842991828918, Accuracy77.89466094970703, Test Loss: 0.8938887715339661, Test Accuracy: 71.54000091552734\n",
            "Epoch 10, Loss: 0.59956955909729, Accuracy79.24960327148438, Test Loss: 0.9038065075874329, Test Accuracy: 71.86000061035156\n"
          ],
          "name": "stdout"
        }
      ]
    },
    {
      "cell_type": "code",
      "metadata": {
        "id": "cXAC7eoi8yTk",
        "colab_type": "code",
        "outputId": "90a33b4a-c345-4ab8-a611-5fecfc25bc56",
        "colab": {
          "base_uri": "https://localhost:8080/",
          "height": 545
        }
      },
      "source": [
        "model.summary()"
      ],
      "execution_count": 0,
      "outputs": [
        {
          "output_type": "stream",
          "text": [
            "Model: \"res_net_2\"\n",
            "_________________________________________________________________\n",
            "Layer (type)                 Output Shape              Param #   \n",
            "=================================================================\n",
            "conv2d_42 (Conv2D)           multiple                  224       \n",
            "_________________________________________________________________\n",
            "residual_layer_8 (ResidualLa multiple                  8496      \n",
            "_________________________________________________________________\n",
            "max_pooling2d_6 (MaxPooling2 multiple                  0         \n",
            "_________________________________________________________________\n",
            "residual_layer_9 (ResidualLa multiple                  33376     \n",
            "_________________________________________________________________\n",
            "max_pooling2d_7 (MaxPooling2 multiple                  0         \n",
            "_________________________________________________________________\n",
            "residual_layer_10 (ResidualL multiple                  132288    \n",
            "_________________________________________________________________\n",
            "max_pooling2d_8 (MaxPooling2 multiple                  0         \n",
            "_________________________________________________________________\n",
            "residual_layer_11 (ResidualL multiple                  526720    \n",
            "_________________________________________________________________\n",
            "flatten_2 (Flatten)          multiple                  0         \n",
            "_________________________________________________________________\n",
            "dense_2 (Dense)              multiple                  2098176   \n",
            "_________________________________________________________________\n",
            "dense_3 (Dense)              multiple                  10250     \n",
            "=================================================================\n",
            "Total params: 2,809,530\n",
            "Trainable params: 2,807,850\n",
            "Non-trainable params: 1,680\n",
            "_________________________________________________________________\n"
          ],
          "name": "stdout"
        }
      ]
    },
    {
      "cell_type": "code",
      "metadata": {
        "id": "MiCU9HIC82iH",
        "colab_type": "code",
        "outputId": "a79b4749-4c51-48e4-8914-5cba4a31477f",
        "colab": {
          "base_uri": "https://localhost:8080/",
          "height": 52
        }
      },
      "source": [
        "model.compile(optimizer=optimizer, loss=loss_object, metrics=['accuracy'])\n",
        "model.evaluate(test_ds)"
      ],
      "execution_count": 0,
      "outputs": [
        {
          "output_type": "stream",
          "text": [
            "313/313 [==============================] - 2s 6ms/step - loss: 0.9931 - accuracy: 0.7474\n"
          ],
          "name": "stdout"
        },
        {
          "output_type": "execute_result",
          "data": {
            "text/plain": [
              "[0.9930694424591887, 0.7474]"
            ]
          },
          "metadata": {
            "tags": []
          },
          "execution_count": 23
        }
      ]
    }
  ]
}